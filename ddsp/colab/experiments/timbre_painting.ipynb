{
 "cells": [
  {
   "cell_type": "markdown",
   "metadata": {},
   "source": [
    "# Timbre Painting in DDSP"
   ]
  },
  {
   "cell_type": "markdown",
   "metadata": {},
   "source": [
    "## Basic Upsampler"
   ]
  },
  {
   "cell_type": "code",
   "execution_count": null,
   "metadata": {
    "ExecuteTime": {
     "end_time": "2020-12-02T02:54:18.417550Z",
     "start_time": "2020-12-02T02:54:13.144019Z"
    }
   },
   "outputs": [],
   "source": [
    "%load_ext autoreload\n",
    "%autoreload 2\n",
    "\n",
    "# Extract some f0\n",
    "from ddsp.synths import BasicUpsampler\n",
    "import numpy as np\n",
    "from matplotlib import pyplot as plt\n",
    "from ddsp.colab.jupyter_utils import show_audio\n",
    "\n",
    "sample_rate = 16000\n",
    "n_samples = 4*sample_rate\n",
    "synth = BasicUpsampler(n_samples)\n",
    "\n",
    "f0_hz = np.linspace(400, 800, 100).reshape([1,-1,1])\n",
    "amplitudes = np.abs(np.sin(np.linspace(0, 2*np.pi, 100))).reshape([1,-1,1])\n",
    "\n",
    "wav = synth.get_signal(amplitudes, f0_hz)\n",
    "show_audio(wav, focus_points=[0.45, 0.8], focus_windows=[2000, 2000])"
   ]
  },
  {
   "cell_type": "markdown",
   "metadata": {},
   "source": [
    "## Timbre Painting"
   ]
  },
  {
   "cell_type": "code",
   "execution_count": null,
   "metadata": {
    "ExecuteTime": {
     "end_time": "2020-12-02T02:58:46.245452Z",
     "start_time": "2020-12-02T02:58:07.591691Z"
    }
   },
   "outputs": [],
   "source": [
    "from ddsp.training.decoders import TimbrePaintingDecoder\n",
    "\n",
    "decoder = TimbrePaintingDecoder(name='tpd', input_keys=('amplitudes', 'f0_hz'))\n",
    "batch = {\n",
    "    'f0_hz': f0_hz,\n",
    "    'amplitudes': amplitudes\n",
    "}\n",
    "controls = decoder(batch)\n"
   ]
  },
  {
   "cell_type": "code",
   "execution_count": null,
   "metadata": {
    "ExecuteTime": {
     "end_time": "2020-12-02T02:57:03.556574Z",
     "start_time": "2020-12-02T02:57:02.756290Z"
    }
   },
   "outputs": [],
   "source": [
    "wav = controls['audio'].numpy().squeeze()\n",
    "show_audio(wav, focus_points=[0.05, 0.95], focus_windows=[2000, 2000])"
   ]
  },
  {
   "cell_type": "markdown",
   "metadata": {},
   "source": [
    "## Check how scaling affects the result\n",
    "\n",
    "Should scaling be used if f0 is the output of CREPE?"
   ]
  },
  {
   "cell_type": "code",
   "execution_count": null,
   "metadata": {
    "ExecuteTime": {
     "end_time": "2020-12-02T02:54:21.027910Z",
     "start_time": "2020-12-02T02:54:13.154Z"
    }
   },
   "outputs": [],
   "source": [
    "plt.plot(synth.scale_fn(np.arange(-10, 30.5, 1)))"
   ]
  },
  {
   "cell_type": "code",
   "execution_count": null,
   "metadata": {
    "ExecuteTime": {
     "end_time": "2020-12-02T02:54:21.044245Z",
     "start_time": "2020-12-02T02:54:13.165Z"
    }
   },
   "outputs": [],
   "source": [
    "wav_with_scaling = synth(amplitudes, f0_hz)\n",
    "show_audio(wav_with_scaling, focus_points=[0.45, 0.8], focus_windows=[2000, 2000])"
   ]
  },
  {
   "cell_type": "code",
   "execution_count": null,
   "metadata": {
    "ExecuteTime": {
     "end_time": "2020-12-02T02:54:21.067209Z",
     "start_time": "2020-12-02T02:54:13.173Z"
    }
   },
   "outputs": [],
   "source": [
    "# feed the outputs to crepe and see, which recovers f0_hz\n",
    "\n"
   ]
  },
  {
   "cell_type": "markdown",
   "metadata": {},
   "source": [
    "# Shapes bla"
   ]
  },
  {
   "cell_type": "code",
   "execution_count": null,
   "metadata": {
    "ExecuteTime": {
     "end_time": "2020-12-02T02:54:21.085365Z",
     "start_time": "2020-12-02T02:54:13.179Z"
    }
   },
   "outputs": [],
   "source": [
    "# Ignore a bunch of deprecation warnings\n",
    "import warnings\n",
    "warnings.filterwarnings(\"ignore\")\n",
    "\n",
    "import time\n",
    "\n",
    "import ddsp\n",
    "from ddsp.training import (data, decoders, encoders, models, preprocessing, \n",
    "                           train_util, trainers)\n",
    "# from ddsp.colab.colab_utils import play, specplot, DEFAULT_SAMPLE_RATE\n",
    "import gin\n",
    "import matplotlib.pyplot as plt\n",
    "import numpy as np\n",
    "import tensorflow.compat.v2 as tf\n",
    "import tensorflow_datasets as tfds\n",
    "\n",
    "sample_rate = 16000\n",
    "play = show_audio"
   ]
  },
  {
   "cell_type": "code",
   "execution_count": null,
   "metadata": {
    "ExecuteTime": {
     "end_time": "2020-12-02T02:54:21.117836Z",
     "start_time": "2020-12-02T02:54:13.183Z"
    }
   },
   "outputs": [],
   "source": [
    "!mkdir ~/ddsp_data"
   ]
  },
  {
   "cell_type": "code",
   "execution_count": null,
   "metadata": {
    "ExecuteTime": {
     "end_time": "2020-12-02T02:54:21.131766Z",
     "start_time": "2020-12-02T02:54:13.188Z"
    }
   },
   "outputs": [],
   "source": [
    "pwd"
   ]
  },
  {
   "cell_type": "code",
   "execution_count": null,
   "metadata": {
    "ExecuteTime": {
     "end_time": "2020-12-02T02:54:21.134321Z",
     "start_time": "2020-12-02T02:54:13.193Z"
    },
    "scrolled": false
   },
   "outputs": [],
   "source": [
    "!ls ../../../data/train.tfrecord*"
   ]
  },
  {
   "cell_type": "code",
   "execution_count": null,
   "metadata": {
    "ExecuteTime": {
     "end_time": "2020-12-02T02:54:21.137473Z",
     "start_time": "2020-12-02T02:54:13.196Z"
    }
   },
   "outputs": [],
   "source": [
    "amplitudes.shape"
   ]
  },
  {
   "cell_type": "code",
   "execution_count": null,
   "metadata": {
    "ExecuteTime": {
     "end_time": "2020-12-02T02:54:21.144017Z",
     "start_time": "2020-12-02T02:54:13.200Z"
    },
    "scrolled": false
   },
   "outputs": [],
   "source": [
    "batch = {\n",
    "    'audio': np.random.rand(2, 64000),\n",
    "    'f0_hz': np.zeros([2, 1000]),\n",
    "    'f0_confidence': np.random.rand(2, 1000),\n",
    "    'loudness_db': np.random.rand(2, 1000)\n",
    "}\n",
    "\n",
    "play(batch['audio'][0])"
   ]
  },
  {
   "cell_type": "markdown",
   "metadata": {},
   "source": [
    "## DDSP Decoder"
   ]
  },
  {
   "cell_type": "code",
   "execution_count": null,
   "metadata": {
    "ExecuteTime": {
     "end_time": "2020-12-02T02:54:21.146495Z",
     "start_time": "2020-12-02T02:54:13.211Z"
    }
   },
   "outputs": [],
   "source": [
    "TIME_STEPS = 1000\n",
    "strategy = train_util.get_strategy()\n",
    "\n",
    "# Create Neural Networks.\n",
    "preprocessor = preprocessing.DefaultPreprocessor(time_steps=TIME_STEPS)\n",
    "\n",
    "decoder = decoders.RnnFcDecoder(rnn_channels = 256,\n",
    "                                rnn_type = 'gru',\n",
    "                                ch = 256,\n",
    "                                layers_per_stack = 1,\n",
    "                                input_keys = ('ld_scaled', 'f0_scaled'),\n",
    "                                output_splits = (('amps', 1),\n",
    "                                                 ('harmonic_distribution', 45),\n",
    "                                                 ('noise_magnitudes', 45)))\n",
    "\n",
    "# Create Processors.\n",
    "additive = ddsp.synths.Additive(n_samples=n_samples, \n",
    "                                sample_rate=sample_rate,\n",
    "                                name='additive')\n",
    "\n",
    "noise = ddsp.synths.FilteredNoise(window_size=0,\n",
    "                                  initial_bias=-10.0,\n",
    "                                  name='noise')\n",
    "add = ddsp.processors.Add(name='add')\n",
    "\n",
    "# Create ProcessorGroup.\n",
    "dag = [(additive, ['amps', 'harmonic_distribution', 'f0_hz']),\n",
    "       (noise, ['noise_magnitudes']),\n",
    "       (add, ['noise/signal', 'additive/signal'])]\n",
    "\n",
    "processor_group = ddsp.processors.ProcessorGroup(dag=dag,\n",
    "                                                 name='processor_group')\n",
    "\n",
    "\n",
    "# Loss_functions\n",
    "spectral_loss = ddsp.losses.SpectralLoss(loss_type='L1',\n",
    "                                         mag_weight=1.0,\n",
    "                                         logmag_weight=1.0)\n",
    "\n",
    "with strategy.scope():\n",
    "    # Put it together in a model.\n",
    "    model = models.Autoencoder(preprocessor=preprocessor,\n",
    "                             encoder=None,\n",
    "                             decoder=decoder,\n",
    "                             processor_group=processor_group,\n",
    "                             losses=[spectral_loss])\n",
    "    trainer = trainers.Trainer(model, strategy, learning_rate=1e-3)"
   ]
  },
  {
   "cell_type": "code",
   "execution_count": null,
   "metadata": {
    "ExecuteTime": {
     "end_time": "2020-12-02T02:54:21.178889Z",
     "start_time": "2020-12-02T02:54:13.216Z"
    },
    "scrolled": false
   },
   "outputs": [],
   "source": [
    "controls = model(batch)\n",
    "controls.keys()"
   ]
  },
  {
   "cell_type": "code",
   "execution_count": null,
   "metadata": {
    "ExecuteTime": {
     "end_time": "2020-12-02T02:54:21.181788Z",
     "start_time": "2020-12-02T02:54:13.218Z"
    }
   },
   "outputs": [],
   "source": [
    "for k in controls['inputs'].keys():\n",
    "    print(k, (controls['inputs'][k]==controls[k]).numpy().all())"
   ]
  },
  {
   "cell_type": "code",
   "execution_count": null,
   "metadata": {
    "ExecuteTime": {
     "end_time": "2020-12-02T02:54:21.209868Z",
     "start_time": "2020-12-02T02:54:13.226Z"
    }
   },
   "outputs": [],
   "source": [
    "controls['f0_hz'].shape"
   ]
  },
  {
   "cell_type": "code",
   "execution_count": null,
   "metadata": {
    "ExecuteTime": {
     "end_time": "2020-12-02T02:54:21.213474Z",
     "start_time": "2020-12-02T02:54:13.229Z"
    }
   },
   "outputs": [],
   "source": [
    "output_splits=(('audio', 1),)\n",
    "sum([v[1] for v in output_splits])"
   ]
  },
  {
   "cell_type": "code",
   "execution_count": null,
   "metadata": {},
   "outputs": [],
   "source": []
  }
 ],
 "metadata": {
  "kernelspec": {
   "display_name": "Python 3",
   "language": "python",
   "name": "python3"
  },
  "language_info": {
   "codemirror_mode": {
    "name": "ipython",
    "version": 3
   },
   "file_extension": ".py",
   "mimetype": "text/x-python",
   "name": "python",
   "nbconvert_exporter": "python",
   "pygments_lexer": "ipython3",
   "version": "3.8.5"
  },
  "toc": {
   "base_numbering": 1,
   "nav_menu": {},
   "number_sections": true,
   "sideBar": true,
   "skip_h1_title": false,
   "title_cell": "Table of Contents",
   "title_sidebar": "Contents",
   "toc_cell": false,
   "toc_position": {},
   "toc_section_display": true,
   "toc_window_display": false
  }
 },
 "nbformat": 4,
 "nbformat_minor": 2
}
