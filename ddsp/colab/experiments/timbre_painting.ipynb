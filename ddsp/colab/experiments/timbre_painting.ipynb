{
 "cells": [
  {
   "cell_type": "markdown",
   "metadata": {},
   "source": [
    "# Timbre Painting in DDSP"
   ]
  },
  {
   "cell_type": "markdown",
   "metadata": {},
   "source": [
    "## Basic Upsampler"
   ]
  },
  {
   "cell_type": "code",
   "execution_count": null,
   "metadata": {
    "ExecuteTime": {
     "end_time": "2020-12-14T23:16:55.218802Z",
     "start_time": "2020-12-14T23:16:50.236559Z"
    }
   },
   "outputs": [],
   "source": [
    "%load_ext autoreload\n",
    "%autoreload 2\n",
    "\n",
    "# Extract some f0\n",
    "from ddsp.synths import BasicUpsampler\n",
    "import numpy as np\n",
    "from matplotlib import pyplot as plt\n",
    "from ddsp.colab.jupyter_utils import show_audio\n",
    "\n",
    "sample_rate = 16000\n",
    "n_samples = 4*sample_rate\n",
    "synth = BasicUpsampler(n_samples)\n",
    "\n",
    "f0_hz = np.linspace(400, 800, 100).reshape([1,-1,1])\n",
    "amplitudes = np.abs(np.sin(np.linspace(0, 2*np.pi, 100))).reshape([1,-1,1])\n",
    "\n",
    "wav = synth.get_signal(amplitudes, f0_hz)\n",
    "show_audio(wav, focus_points=[0.45, 0.8], focus_windows=[2000, 2000])"
   ]
  },
  {
   "cell_type": "markdown",
   "metadata": {},
   "source": [
    "## Basic Upsampler + ParallelWaveGANUpsampler"
   ]
  },
  {
   "cell_type": "code",
   "execution_count": null,
   "metadata": {
    "ExecuteTime": {
     "end_time": "2020-12-14T23:17:55.539880Z",
     "start_time": "2020-12-14T23:17:19.907564Z"
    }
   },
   "outputs": [],
   "source": [
    "from ddsp.training.decoders import TimbrePaintingDecoder\n",
    "\n",
    "decoder = TimbrePaintingDecoder(name='tpd', input_keys=('amplitudes', 'f0_hz'))\n",
    "batch = {\n",
    "    'f0_hz': f0_hz,\n",
    "    'amplitudes': amplitudes\n",
    "}\n",
    "controls = decoder(batch)\n"
   ]
  },
  {
   "cell_type": "code",
   "execution_count": null,
   "metadata": {
    "ExecuteTime": {
     "end_time": "2020-12-14T23:17:56.436530Z",
     "start_time": "2020-12-14T23:17:55.542738Z"
    },
    "scrolled": true
   },
   "outputs": [],
   "source": [
    "wav = controls['audio_tensor'].numpy().squeeze()\n",
    "show_audio(wav, focus_points=[0.05, 0.95], focus_windows=[2000, 2000])"
   ]
  },
  {
   "cell_type": "markdown",
   "metadata": {},
   "source": [
    "## Discriminator"
   ]
  },
  {
   "cell_type": "code",
   "execution_count": null,
   "metadata": {
    "ExecuteTime": {
     "end_time": "2020-12-14T18:24:19.418933Z",
     "start_time": "2020-12-14T18:24:16.769385Z"
    }
   },
   "outputs": [],
   "source": [
    "from ddsp.training import discriminator\n",
    "\n",
    "critic = discriminator.ParallelWaveGANDiscriminator(input_keys=['audio_tensor', 'f0_hz', 'amplitudes'])\n",
    "critic_score = critic(controls)\n",
    "\n",
    "critic_score"
   ]
  },
  {
   "cell_type": "markdown",
   "metadata": {},
   "source": [
    "## Gan Autoencoder"
   ]
  },
  {
   "cell_type": "code",
   "execution_count": null,
   "metadata": {
    "ExecuteTime": {
     "end_time": "2020-12-14T23:18:36.281135Z",
     "start_time": "2020-12-14T23:17:56.445720Z"
    },
    "scrolled": true
   },
   "outputs": [],
   "source": [
    "import ddsp\n",
    "from ddsp.training import models, preprocessing, decoders, discriminator\n",
    "from ddsp import synths\n",
    "\n",
    "\n",
    "\n",
    "dag = [(synths.TensorToAudio(), ['audio_tensor'])]\n",
    "\n",
    "ae = models.Autoencoder(\n",
    "    preprocessor=None,\n",
    "    encoder=None,\n",
    "    decoder=decoders.TimbrePaintingDecoder(name='tpd', input_keys=('amplitudes', 'f0_hz')),\n",
    "    processor_group=ddsp.processors.ProcessorGroup(dag=dag, name='processor_group'),\n",
    "    discriminator=discriminator.ParallelWaveGANDiscriminator(input_keys=['discriminator_audio', 'f0_hz', 'amplitudes']),\n",
    "    losses=[]\n",
    ")\n",
    "\n",
    "batch = {\n",
    "    'f0_hz': f0_hz,\n",
    "    'amplitudes': amplitudes,\n",
    "    'audio': np.random.normal(0,1,size=n_samples)\n",
    "}\n",
    "outputs = ae(batch)\n",
    "\n",
    "outputs.keys()"
   ]
  },
  {
   "cell_type": "markdown",
   "metadata": {},
   "source": [
    "# Training"
   ]
  },
  {
   "cell_type": "code",
   "execution_count": null,
   "metadata": {},
   "outputs": [],
   "source": []
  }
 ],
 "metadata": {
  "kernelspec": {
   "display_name": "Python 3",
   "language": "python",
   "name": "python3"
  },
  "language_info": {
   "codemirror_mode": {
    "name": "ipython",
    "version": 3
   },
   "file_extension": ".py",
   "mimetype": "text/x-python",
   "name": "python",
   "nbconvert_exporter": "python",
   "pygments_lexer": "ipython3",
   "version": "3.8.5"
  },
  "toc": {
   "base_numbering": 1,
   "nav_menu": {},
   "number_sections": true,
   "sideBar": true,
   "skip_h1_title": false,
   "title_cell": "Table of Contents",
   "title_sidebar": "Contents",
   "toc_cell": false,
   "toc_position": {},
   "toc_section_display": true,
   "toc_window_display": false
  }
 },
 "nbformat": 4,
 "nbformat_minor": 2
}
